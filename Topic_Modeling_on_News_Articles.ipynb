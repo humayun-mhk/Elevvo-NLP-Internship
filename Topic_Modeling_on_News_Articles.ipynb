{
  "nbformat": 4,
  "nbformat_minor": 0,
  "metadata": {
    "colab": {
      "provenance": [],
      "authorship_tag": "ABX9TyOguaBtAgnMFZ+c7I+nP9fk",
      "include_colab_link": true
    },
    "kernelspec": {
      "name": "python3",
      "display_name": "Python 3"
    },
    "language_info": {
      "name": "python"
    }
  },
  "cells": [
    {
      "cell_type": "markdown",
      "metadata": {
        "id": "view-in-github",
        "colab_type": "text"
      },
      "source": [
        "<a href=\"https://colab.research.google.com/github/humayun-mhk/Elevvo-NLP-Internship/blob/main/Topic_Modeling_on_News_Articles.ipynb\" target=\"_parent\"><img src=\"https://colab.research.google.com/assets/colab-badge.svg\" alt=\"Open In Colab\"/></a>"
      ]
    },
    {
      "cell_type": "markdown",
      "source": [
        "## 1. Install Required Libraries"
      ],
      "metadata": {
        "id": "uU-ZqBXh5epy"
      }
    },
    {
      "cell_type": "code",
      "execution_count": 2,
      "metadata": {
        "colab": {
          "base_uri": "https://localhost:8080/"
        },
        "id": "IRq8fPHF5W3h",
        "outputId": "d7308db5-fbab-47ca-98ec-83d1942a0b98"
      },
      "outputs": [
        {
          "output_type": "stream",
          "name": "stdout",
          "text": [
            "Requirement already satisfied: gensim in /usr/local/lib/python3.11/dist-packages (4.3.3)\n",
            "Requirement already satisfied: pyLDAvis in /usr/local/lib/python3.11/dist-packages (3.4.1)\n",
            "Requirement already satisfied: nltk in /usr/local/lib/python3.11/dist-packages (3.9.1)\n",
            "Requirement already satisfied: wordcloud in /usr/local/lib/python3.11/dist-packages (1.9.4)\n",
            "Requirement already satisfied: scikit-learn in /usr/local/lib/python3.11/dist-packages (1.6.1)\n",
            "Requirement already satisfied: numpy<2.0,>=1.18.5 in /usr/local/lib/python3.11/dist-packages (from gensim) (1.26.4)\n",
            "Requirement already satisfied: scipy<1.14.0,>=1.7.0 in /usr/local/lib/python3.11/dist-packages (from gensim) (1.13.1)\n",
            "Requirement already satisfied: smart-open>=1.8.1 in /usr/local/lib/python3.11/dist-packages (from gensim) (7.3.0.post1)\n",
            "Requirement already satisfied: pandas>=2.0.0 in /usr/local/lib/python3.11/dist-packages (from pyLDAvis) (2.2.2)\n",
            "Requirement already satisfied: joblib>=1.2.0 in /usr/local/lib/python3.11/dist-packages (from pyLDAvis) (1.5.1)\n",
            "Requirement already satisfied: jinja2 in /usr/local/lib/python3.11/dist-packages (from pyLDAvis) (3.1.6)\n",
            "Requirement already satisfied: numexpr in /usr/local/lib/python3.11/dist-packages (from pyLDAvis) (2.11.0)\n",
            "Requirement already satisfied: funcy in /usr/local/lib/python3.11/dist-packages (from pyLDAvis) (2.0)\n",
            "Requirement already satisfied: setuptools in /usr/local/lib/python3.11/dist-packages (from pyLDAvis) (75.2.0)\n",
            "Requirement already satisfied: click in /usr/local/lib/python3.11/dist-packages (from nltk) (8.2.1)\n",
            "Requirement already satisfied: regex>=2021.8.3 in /usr/local/lib/python3.11/dist-packages (from nltk) (2024.11.6)\n",
            "Requirement already satisfied: tqdm in /usr/local/lib/python3.11/dist-packages (from nltk) (4.67.1)\n",
            "Requirement already satisfied: pillow in /usr/local/lib/python3.11/dist-packages (from wordcloud) (11.3.0)\n",
            "Requirement already satisfied: matplotlib in /usr/local/lib/python3.11/dist-packages (from wordcloud) (3.10.0)\n",
            "Requirement already satisfied: threadpoolctl>=3.1.0 in /usr/local/lib/python3.11/dist-packages (from scikit-learn) (3.6.0)\n",
            "Requirement already satisfied: python-dateutil>=2.8.2 in /usr/local/lib/python3.11/dist-packages (from pandas>=2.0.0->pyLDAvis) (2.9.0.post0)\n",
            "Requirement already satisfied: pytz>=2020.1 in /usr/local/lib/python3.11/dist-packages (from pandas>=2.0.0->pyLDAvis) (2025.2)\n",
            "Requirement already satisfied: tzdata>=2022.7 in /usr/local/lib/python3.11/dist-packages (from pandas>=2.0.0->pyLDAvis) (2025.2)\n",
            "Requirement already satisfied: wrapt in /usr/local/lib/python3.11/dist-packages (from smart-open>=1.8.1->gensim) (1.17.2)\n",
            "Requirement already satisfied: MarkupSafe>=2.0 in /usr/local/lib/python3.11/dist-packages (from jinja2->pyLDAvis) (3.0.2)\n",
            "Requirement already satisfied: contourpy>=1.0.1 in /usr/local/lib/python3.11/dist-packages (from matplotlib->wordcloud) (1.3.3)\n",
            "Requirement already satisfied: cycler>=0.10 in /usr/local/lib/python3.11/dist-packages (from matplotlib->wordcloud) (0.12.1)\n",
            "Requirement already satisfied: fonttools>=4.22.0 in /usr/local/lib/python3.11/dist-packages (from matplotlib->wordcloud) (4.59.0)\n",
            "Requirement already satisfied: kiwisolver>=1.3.1 in /usr/local/lib/python3.11/dist-packages (from matplotlib->wordcloud) (1.4.8)\n",
            "Requirement already satisfied: packaging>=20.0 in /usr/local/lib/python3.11/dist-packages (from matplotlib->wordcloud) (25.0)\n",
            "Requirement already satisfied: pyparsing>=2.3.1 in /usr/local/lib/python3.11/dist-packages (from matplotlib->wordcloud) (3.2.3)\n",
            "Requirement already satisfied: six>=1.5 in /usr/local/lib/python3.11/dist-packages (from python-dateutil>=2.8.2->pandas>=2.0.0->pyLDAvis) (1.17.0)\n"
          ]
        }
      ],
      "source": [
        "!pip install gensim pyLDAvis nltk wordcloud scikit-learn\n"
      ]
    },
    {
      "cell_type": "markdown",
      "source": [
        "## 2. Load and Preprocess Data"
      ],
      "metadata": {
        "id": "CPSklcwt5lWK"
      }
    },
    {
      "cell_type": "code",
      "source": [
        "from google.colab import files\n",
        "files.upload()  # Upload kaggle.json\n"
      ],
      "metadata": {
        "colab": {
          "base_uri": "https://localhost:8080/",
          "height": 90
        },
        "id": "t8Dz1D9d7swU",
        "outputId": "490b7b68-7f73-461c-cfb1-f5360114135d"
      },
      "execution_count": 6,
      "outputs": [
        {
          "output_type": "display_data",
          "data": {
            "text/plain": [
              "<IPython.core.display.HTML object>"
            ],
            "text/html": [
              "\n",
              "     <input type=\"file\" id=\"files-68a04810-2328-428c-a6f9-31fc1c493713\" name=\"files[]\" multiple disabled\n",
              "        style=\"border:none\" />\n",
              "     <output id=\"result-68a04810-2328-428c-a6f9-31fc1c493713\">\n",
              "      Upload widget is only available when the cell has been executed in the\n",
              "      current browser session. Please rerun this cell to enable.\n",
              "      </output>\n",
              "      <script>// Copyright 2017 Google LLC\n",
              "//\n",
              "// Licensed under the Apache License, Version 2.0 (the \"License\");\n",
              "// you may not use this file except in compliance with the License.\n",
              "// You may obtain a copy of the License at\n",
              "//\n",
              "//      http://www.apache.org/licenses/LICENSE-2.0\n",
              "//\n",
              "// Unless required by applicable law or agreed to in writing, software\n",
              "// distributed under the License is distributed on an \"AS IS\" BASIS,\n",
              "// WITHOUT WARRANTIES OR CONDITIONS OF ANY KIND, either express or implied.\n",
              "// See the License for the specific language governing permissions and\n",
              "// limitations under the License.\n",
              "\n",
              "/**\n",
              " * @fileoverview Helpers for google.colab Python module.\n",
              " */\n",
              "(function(scope) {\n",
              "function span(text, styleAttributes = {}) {\n",
              "  const element = document.createElement('span');\n",
              "  element.textContent = text;\n",
              "  for (const key of Object.keys(styleAttributes)) {\n",
              "    element.style[key] = styleAttributes[key];\n",
              "  }\n",
              "  return element;\n",
              "}\n",
              "\n",
              "// Max number of bytes which will be uploaded at a time.\n",
              "const MAX_PAYLOAD_SIZE = 100 * 1024;\n",
              "\n",
              "function _uploadFiles(inputId, outputId) {\n",
              "  const steps = uploadFilesStep(inputId, outputId);\n",
              "  const outputElement = document.getElementById(outputId);\n",
              "  // Cache steps on the outputElement to make it available for the next call\n",
              "  // to uploadFilesContinue from Python.\n",
              "  outputElement.steps = steps;\n",
              "\n",
              "  return _uploadFilesContinue(outputId);\n",
              "}\n",
              "\n",
              "// This is roughly an async generator (not supported in the browser yet),\n",
              "// where there are multiple asynchronous steps and the Python side is going\n",
              "// to poll for completion of each step.\n",
              "// This uses a Promise to block the python side on completion of each step,\n",
              "// then passes the result of the previous step as the input to the next step.\n",
              "function _uploadFilesContinue(outputId) {\n",
              "  const outputElement = document.getElementById(outputId);\n",
              "  const steps = outputElement.steps;\n",
              "\n",
              "  const next = steps.next(outputElement.lastPromiseValue);\n",
              "  return Promise.resolve(next.value.promise).then((value) => {\n",
              "    // Cache the last promise value to make it available to the next\n",
              "    // step of the generator.\n",
              "    outputElement.lastPromiseValue = value;\n",
              "    return next.value.response;\n",
              "  });\n",
              "}\n",
              "\n",
              "/**\n",
              " * Generator function which is called between each async step of the upload\n",
              " * process.\n",
              " * @param {string} inputId Element ID of the input file picker element.\n",
              " * @param {string} outputId Element ID of the output display.\n",
              " * @return {!Iterable<!Object>} Iterable of next steps.\n",
              " */\n",
              "function* uploadFilesStep(inputId, outputId) {\n",
              "  const inputElement = document.getElementById(inputId);\n",
              "  inputElement.disabled = false;\n",
              "\n",
              "  const outputElement = document.getElementById(outputId);\n",
              "  outputElement.innerHTML = '';\n",
              "\n",
              "  const pickedPromise = new Promise((resolve) => {\n",
              "    inputElement.addEventListener('change', (e) => {\n",
              "      resolve(e.target.files);\n",
              "    });\n",
              "  });\n",
              "\n",
              "  const cancel = document.createElement('button');\n",
              "  inputElement.parentElement.appendChild(cancel);\n",
              "  cancel.textContent = 'Cancel upload';\n",
              "  const cancelPromise = new Promise((resolve) => {\n",
              "    cancel.onclick = () => {\n",
              "      resolve(null);\n",
              "    };\n",
              "  });\n",
              "\n",
              "  // Wait for the user to pick the files.\n",
              "  const files = yield {\n",
              "    promise: Promise.race([pickedPromise, cancelPromise]),\n",
              "    response: {\n",
              "      action: 'starting',\n",
              "    }\n",
              "  };\n",
              "\n",
              "  cancel.remove();\n",
              "\n",
              "  // Disable the input element since further picks are not allowed.\n",
              "  inputElement.disabled = true;\n",
              "\n",
              "  if (!files) {\n",
              "    return {\n",
              "      response: {\n",
              "        action: 'complete',\n",
              "      }\n",
              "    };\n",
              "  }\n",
              "\n",
              "  for (const file of files) {\n",
              "    const li = document.createElement('li');\n",
              "    li.append(span(file.name, {fontWeight: 'bold'}));\n",
              "    li.append(span(\n",
              "        `(${file.type || 'n/a'}) - ${file.size} bytes, ` +\n",
              "        `last modified: ${\n",
              "            file.lastModifiedDate ? file.lastModifiedDate.toLocaleDateString() :\n",
              "                                    'n/a'} - `));\n",
              "    const percent = span('0% done');\n",
              "    li.appendChild(percent);\n",
              "\n",
              "    outputElement.appendChild(li);\n",
              "\n",
              "    const fileDataPromise = new Promise((resolve) => {\n",
              "      const reader = new FileReader();\n",
              "      reader.onload = (e) => {\n",
              "        resolve(e.target.result);\n",
              "      };\n",
              "      reader.readAsArrayBuffer(file);\n",
              "    });\n",
              "    // Wait for the data to be ready.\n",
              "    let fileData = yield {\n",
              "      promise: fileDataPromise,\n",
              "      response: {\n",
              "        action: 'continue',\n",
              "      }\n",
              "    };\n",
              "\n",
              "    // Use a chunked sending to avoid message size limits. See b/62115660.\n",
              "    let position = 0;\n",
              "    do {\n",
              "      const length = Math.min(fileData.byteLength - position, MAX_PAYLOAD_SIZE);\n",
              "      const chunk = new Uint8Array(fileData, position, length);\n",
              "      position += length;\n",
              "\n",
              "      const base64 = btoa(String.fromCharCode.apply(null, chunk));\n",
              "      yield {\n",
              "        response: {\n",
              "          action: 'append',\n",
              "          file: file.name,\n",
              "          data: base64,\n",
              "        },\n",
              "      };\n",
              "\n",
              "      let percentDone = fileData.byteLength === 0 ?\n",
              "          100 :\n",
              "          Math.round((position / fileData.byteLength) * 100);\n",
              "      percent.textContent = `${percentDone}% done`;\n",
              "\n",
              "    } while (position < fileData.byteLength);\n",
              "  }\n",
              "\n",
              "  // All done.\n",
              "  yield {\n",
              "    response: {\n",
              "      action: 'complete',\n",
              "    }\n",
              "  };\n",
              "}\n",
              "\n",
              "scope.google = scope.google || {};\n",
              "scope.google.colab = scope.google.colab || {};\n",
              "scope.google.colab._files = {\n",
              "  _uploadFiles,\n",
              "  _uploadFilesContinue,\n",
              "};\n",
              "})(self);\n",
              "</script> "
            ]
          },
          "metadata": {}
        },
        {
          "output_type": "stream",
          "name": "stdout",
          "text": [
            "Saving kaggle.json to kaggle.json\n"
          ]
        },
        {
          "output_type": "execute_result",
          "data": {
            "text/plain": [
              "{'kaggle.json': b'{\"username\":\"humayunmhk\",\"key\":\"9c7ea0e8fc7cfd58eccfc177898cad97\"}'}"
            ]
          },
          "metadata": {},
          "execution_count": 6
        }
      ]
    },
    {
      "cell_type": "code",
      "source": [
        "!mkdir -p ~/.kaggle\n",
        "!cp kaggle.json ~/.kaggle/\n",
        "!chmod 600 ~/.kaggle/kaggle.json\n"
      ],
      "metadata": {
        "id": "SPUeD0Ay7-3d"
      },
      "execution_count": 7,
      "outputs": []
    },
    {
      "cell_type": "code",
      "source": [
        "!kaggle datasets download -d gpreda/bbc-news\n",
        "!unzip /content/bbc-news.zip\n"
      ],
      "metadata": {
        "colab": {
          "base_uri": "https://localhost:8080/"
        },
        "id": "iho6ab6-8Gb3",
        "outputId": "aaa45333-7dc1-452d-cd3a-a04f28154ef0"
      },
      "execution_count": 11,
      "outputs": [
        {
          "output_type": "stream",
          "name": "stdout",
          "text": [
            "Dataset URL: https://www.kaggle.com/datasets/gpreda/bbc-news\n",
            "License(s): CC0-1.0\n",
            "bbc-news.zip: Skipping, found more recently modified local copy (use --force to force download)\n",
            "Archive:  /content/bbc-news.zip\n",
            "  inflating: bbc_news.csv            \n"
          ]
        }
      ]
    },
    {
      "cell_type": "code",
      "source": [
        "import pandas as pd\n",
        "import re\n",
        "import nltk\n",
        "from nltk.corpus import stopwords\n",
        "from nltk.stem import WordNetLemmatizer\n",
        "\n",
        "nltk.download('stopwords')\n",
        "nltk.download('wordnet')\n",
        "\n",
        "# Load CSV\n",
        "df = pd.read_csv(\"/content/bbc_news.csv\")  # Replace with actual filename\n",
        "\n",
        "# Use the 'description' column for topic modeling\n",
        "texts = df['description'].fillna('').tolist()\n",
        "\n",
        "# Preprocessing\n",
        "stop_words = set(stopwords.words(\"english\"))\n",
        "lemmatizer = WordNetLemmatizer()\n",
        "\n",
        "def preprocess(text):\n",
        "    text = re.sub(r'\\W', ' ', text.lower())\n",
        "    tokens = text.split()\n",
        "    return [lemmatizer.lemmatize(word) for word in tokens if word not in stop_words and len(word) > 3]\n",
        "\n",
        "processed_docs = [preprocess(doc) for doc in texts]\n"
      ],
      "metadata": {
        "colab": {
          "base_uri": "https://localhost:8080/"
        },
        "id": "LzN1h9rh89IM",
        "outputId": "3507f5f4-4429-4945-b931-29767ae72058"
      },
      "execution_count": 15,
      "outputs": [
        {
          "output_type": "stream",
          "name": "stderr",
          "text": [
            "[nltk_data] Downloading package stopwords to /root/nltk_data...\n",
            "[nltk_data]   Package stopwords is already up-to-date!\n",
            "[nltk_data] Downloading package wordnet to /root/nltk_data...\n",
            "[nltk_data]   Package wordnet is already up-to-date!\n"
          ]
        }
      ]
    },
    {
      "cell_type": "markdown",
      "source": [
        "## 3. Prepare for LDA"
      ],
      "metadata": {
        "id": "pTFU_D1K5ri_"
      }
    },
    {
      "cell_type": "code",
      "source": [
        "from gensim import corpora\n",
        "\n",
        "dictionary = corpora.Dictionary(processed_docs)\n",
        "corpus = [dictionary.doc2bow(doc) for doc in processed_docs]\n"
      ],
      "metadata": {
        "id": "423wPjmG5tPN"
      },
      "execution_count": 16,
      "outputs": []
    },
    {
      "cell_type": "markdown",
      "source": [
        "## 4. Train LDA Model"
      ],
      "metadata": {
        "id": "yfZ0lk_85vz4"
      }
    },
    {
      "cell_type": "code",
      "source": [
        "from gensim.models.ldamodel import LdaModel\n",
        "\n",
        "lda_model = LdaModel(\n",
        "    corpus=corpus,\n",
        "    id2word=dictionary,\n",
        "    num_topics=5,\n",
        "    passes=10,\n",
        "    random_state=42\n",
        ")\n",
        "\n",
        "# Print Topics\n",
        "topics = lda_model.print_topics(num_words=10)\n",
        "for i, topic in topics:\n",
        "    print(f\"Topic {i}: {topic}\")\n"
      ],
      "metadata": {
        "colab": {
          "base_uri": "https://localhost:8080/"
        },
        "id": "GZC3lvNI5x1q",
        "outputId": "d9a2cc82-8d23-4da6-c3ef-495ae58483b1"
      },
      "execution_count": 17,
      "outputs": [
        {
          "output_type": "stream",
          "name": "stdout",
          "text": [
            "Topic 0: 0.010*\"first\" + 0.010*\"year\" + 0.007*\"trump\" + 0.006*\"star\" + 0.006*\"medium\" + 0.005*\"scottish\" + 0.005*\"social\" + 0.005*\"president\" + 0.004*\"film\" + 0.004*\"said\"\n",
            "Topic 1: 0.016*\"england\" + 0.015*\"world\" + 0.012*\"final\" + 0.012*\"league\" + 0.012*\"2024\" + 0.011*\"manchester\" + 0.009*\"first\" + 0.009*\"say\" + 0.008*\"match\" + 0.008*\"city\"\n",
            "Topic 2: 0.018*\"say\" + 0.013*\"government\" + 0.010*\"people\" + 0.010*\"minister\" + 0.009*\"election\" + 0.009*\"party\" + 0.007*\"could\" + 0.007*\"israel\" + 0.007*\"labour\" + 0.006*\"said\"\n",
            "Topic 3: 0.013*\"police\" + 0.013*\"year\" + 0.012*\"say\" + 0.011*\"people\" + 0.008*\"died\" + 0.008*\"attack\" + 0.007*\"killed\" + 0.006*\"family\" + 0.006*\"found\" + 0.006*\"child\"\n",
            "Topic 4: 0.015*\"say\" + 0.007*\"wale\" + 0.006*\"year\" + 0.006*\"former\" + 0.005*\"school\" + 0.005*\"would\" + 0.005*\"first\" + 0.005*\"england\" + 0.005*\"king\" + 0.004*\"president\"\n"
          ]
        }
      ]
    },
    {
      "cell_type": "markdown",
      "source": [
        "## 5. Visualize with pyLDAvis"
      ],
      "metadata": {
        "id": "aalIpral513E"
      }
    },
    {
      "cell_type": "code",
      "source": [
        "import pyLDAvis.gensim_models as gensimvis\n",
        "import pyLDAvis\n",
        "\n",
        "pyLDAvis.enable_notebook()\n",
        "vis = gensimvis.prepare(lda_model, corpus, dictionary)\n",
        "pyLDAvis.display(vis)\n"
      ],
      "metadata": {
        "colab": {
          "base_uri": "https://localhost:8080/",
          "height": 881
        },
        "id": "SfnQy80g53mK",
        "outputId": "4db6dcb5-4884-4601-8923-2e06ad428718"
      },
      "execution_count": 18,
      "outputs": [
        {
          "output_type": "execute_result",
          "data": {
            "text/plain": [
              "<IPython.core.display.HTML object>"
            ],
            "text/html": [
              "\n",
              "<link rel=\"stylesheet\" type=\"text/css\" href=\"https://cdn.jsdelivr.net/gh/bmabey/pyLDAvis@3.4.0/pyLDAvis/js/ldavis.v1.0.0.css\">\n",
              "\n",
              "\n",
              "<div id=\"ldavis_el6721367611527949447163992979\" style=\"background-color:white;\"></div>\n",
              "<script type=\"text/javascript\">\n",
              "\n",
              "var ldavis_el6721367611527949447163992979_data = {\"mdsDat\": {\"x\": [-0.318007352006743, 0.16841144512622439, 0.15298875251539423, 0.06379467363265812, -0.06718751926753375], \"y\": [0.14764733930538512, 0.1545386763123711, 0.05724161822510484, -0.09145912872114181, -0.2679685051217193], \"topics\": [1, 2, 3, 4, 5], \"cluster\": [1, 1, 1, 1, 1], \"Freq\": [24.12309994349428, 21.689765227118027, 20.512251790858237, 16.91378706083406, 16.76109597769539]}, \"tinfo\": {\"Term\": [\"england\", \"police\", \"world\", \"government\", \"final\", \"league\", \"2024\", \"manchester\", \"people\", \"minister\", \"first\", \"match\", \"say\", \"party\", \"election\", \"attack\", \"paris\", \"israel\", \"champion\", \"watch\", \"united\", \"premier\", \"labour\", \"died\", \"killed\", \"victory\", \"euro\", \"wale\", \"trump\", \"plan\", \"final\", \"league\", \"manchester\", \"2024\", \"match\", \"paris\", \"champion\", \"watch\", \"united\", \"premier\", \"victory\", \"euro\", \"manager\", \"sport\", \"side\", \"round\", \"title\", \"britain\", \"football\", \"player\", \"club\", \"liverpool\", \"beat\", \"season\", \"test\", \"great\", \"championship\", \"captain\", \"olympic\", \"defeat\", \"medal\", \"world\", \"england\", \"game\", \"team\", \"second\", \"city\", \"first\", \"woman\", \"say\", \"time\", \"government\", \"minister\", \"israel\", \"labour\", \"plan\", \"prime\", \"health\", \"secretary\", \"change\", \"general\", \"going\", \"cost\", \"rise\", \"budget\", \"concern\", \"allegation\", \"risk\", \"paper\", \"starmer\", \"firm\", \"keir\", \"company\", \"price\", \"parliament\", \"bill\", \"mean\", \"lebanon\", \"chancellor\", \"council\", \"amid\", \"election\", \"party\", \"call\", \"could\", \"many\", \"help\", \"say\", \"people\", \"vote\", \"leader\", \"said\", \"day\", \"want\", \"next\", \"former\", \"year\", \"police\", \"attack\", \"killed\", \"gaza\", \"daughter\", \"israeli\", \"actor\", \"hospital\", \"presenter\", \"around\", \"taken\", \"murder\", \"officer\", \"arrested\", \"mother\", \"cancer\", \"girl\", \"korea\", \"dead\", \"private\", \"baby\", \"village\", \"image\", \"hears\", \"captured\", \"journey\", \"save\", \"charged\", \"husband\", \"class\", \"republic\", \"rate\", \"found\", \"died\", \"child\", \"family\", \"death\", \"military\", \"people\", \"year\", \"parent\", \"young\", \"south\", \"say\", \"london\", \"four\", \"life\", \"woman\", \"three\", \"show\", \"day\", \"month\", \"city\", \"school\", \"alleged\", \"office\", \"prince\", \"much\", \"rape\", \"judge\", \"middle\", \"legal\", \"princess\", \"university\", \"fall\", \"weather\", \"follow\", \"tonne\", \"warns\", \"appear\", \"george\", \"promise\", \"line\", \"denies\", \"picture\", \"manifesto\", \"christmas\", \"gareth\", \"driver\", \"rebel\", \"milan\", \"album\", \"kerry\", \"inter\", \"personality\", \"terry\", \"charles\", \"northern\", \"king\", \"wale\", \"would\", \"wednesday\", \"already\", \"scotland\", \"say\", \"state\", \"member\", \"part\", \"court\", \"former\", \"year\", \"president\", \"first\", \"month\", \"england\", \"life\", \"ireland\", \"week\", \"show\", \"back\", \"trump\", \"medium\", \"scottish\", \"social\", \"aged\", \"american\", \"band\", \"white\", \"tory\", \"fourth\", \"candidate\", \"teenager\", \"debate\", \"missing\", \"poll\", \"guide\", \"donald\", \"giant\", \"sale\", \"released\", \"voter\", \"door\", \"irish\", \"hunter\", \"heavy\", \"space\", \"evacuated\", \"song\", \"november\", \"branded\", \"film\", \"material\", \"georgia\", \"biden\", \"star\", \"first\", \"year\", \"behind\", \"called\", \"president\", \"said\", \"storm\", \"tour\", \"party\", \"former\", \"time\", \"british\", \"woman\", \"died\", \"including\", \"show\"], \"Freq\": [1901.0, 1147.0, 1642.0, 1154.0, 1191.0, 1163.0, 1159.0, 1139.0, 1852.0, 869.0, 1949.0, 799.0, 4564.0, 1058.0, 965.0, 659.0, 716.0, 637.0, 683.0, 681.0, 672.0, 660.0, 604.0, 865.0, 574.0, 631.0, 629.0, 699.0, 459.0, 527.0, 1190.5207651282954, 1163.0566213460122, 1139.1947600900942, 1158.7670901406273, 798.4238441868425, 716.201144846082, 682.9303527398187, 680.581637607364, 671.4830952231247, 659.4747544596428, 630.3038013305327, 628.3279263194127, 562.7005389791203, 543.6821401519844, 526.1363102193174, 524.821039094193, 493.6860375024455, 484.45483209609637, 479.1111019919729, 468.1887936431058, 468.1814078934605, 457.6176823643976, 407.7233908713616, 408.90253982580816, 412.35874344304966, 377.72343408981806, 370.0828994543861, 316.0299634585399, 315.9527169313953, 310.23617007856257, 321.47487365827885, 1472.9307962014534, 1578.7875671904008, 615.621398488196, 639.2762717730419, 639.3808408993491, 788.1581196323921, 913.218868094626, 624.9776474407549, 908.3555856794541, 576.5971074082479, 1153.4950212074725, 869.0047314030836, 636.708369192761, 603.3492124852329, 527.1841977126841, 500.83030462009543, 432.402043313598, 405.37083701998256, 383.31694758675826, 350.39624767805816, 334.8880660087012, 331.93892706777336, 326.80794858386656, 310.3187660601151, 300.7880467635063, 297.57743928869155, 280.8023898250217, 274.0954340254275, 274.0697747198596, 259.25914368909037, 253.84835058304046, 241.1170269479399, 236.22234103717452, 235.23556105990434, 225.35809439075626, 219.20337055816742, 237.89408367265966, 202.66820723131798, 201.42355228383994, 194.6329147850062, 810.6223929438116, 791.4910164563026, 341.5695936676425, 660.0065983485792, 368.7543565098122, 370.15891453351156, 1613.5558205140053, 893.4410484805528, 361.6423367341152, 510.40439886076, 541.3564983530968, 405.862419719282, 311.97874029992613, 316.1198916326829, 342.6234745152471, 335.85143528457684, 1146.5062513888736, 658.3529582656603, 573.9958609900997, 408.8325341957346, 343.1988771298112, 320.58360890620946, 319.5130103928288, 295.1859253218192, 300.9601894305764, 286.9320875635896, 285.2215824075419, 278.1189128107883, 256.66631985923163, 257.2827154279725, 245.16648321493707, 244.08346338185746, 241.3560595617516, 230.11055192255705, 215.71134077118856, 213.46379737369267, 197.71276903095924, 192.25794151663604, 189.02344974114013, 190.47980475909148, 186.07701333799082, 188.80459602510032, 184.4542126360735, 179.20895762771104, 171.2022146979888, 172.78663849056426, 178.5865203290686, 259.02921259997987, 506.637528526616, 660.1307770374206, 487.48719240156515, 522.0970434015986, 481.8337231426163, 268.61666286342364, 958.0977662804451, 1140.8960281965885, 227.07319145921142, 319.481808037745, 340.4263193283357, 1007.5829525214915, 361.91667309177717, 320.5242449351042, 359.7537735352378, 451.974261774139, 377.17645314600065, 358.51545739475404, 325.8623716665918, 330.2798500561045, 357.9170081487142, 367.66986950490923, 273.40741911502107, 262.7069582073513, 240.8571473692633, 229.81107206725338, 214.11973609912422, 212.51797971545435, 216.11545028459292, 205.0524138209831, 185.04978000049755, 188.98963660761382, 181.38964326521594, 177.85136469192167, 172.680717706099, 211.30120073111306, 170.34909058297333, 168.35524458341996, 165.07454624010384, 155.76042676998725, 150.11047538370644, 150.2106363689225, 146.77148636231217, 160.37963115886603, 141.72068186419975, 141.10534403143166, 133.92095650481667, 162.30422317878538, 148.83701170567036, 129.2913869616268, 133.56817253733644, 146.01683757808433, 159.488309826094, 142.0829132806291, 192.63554890978554, 240.86927419011735, 319.54782568960485, 498.52452658159007, 364.1981245703547, 230.7479836913983, 208.86461105721696, 300.2587077880179, 1034.7723153209527, 299.7821565036456, 258.1613668985757, 272.21137043930185, 259.42029477918265, 389.5531110383246, 441.7433754982448, 304.76097029363393, 353.6618837596827, 274.79371138978695, 321.67634495102106, 234.7245649005874, 215.63598200817734, 229.67634964260327, 216.91818027474747, 211.79681078934112, 458.3925819573598, 411.4821301399281, 343.161024967683, 325.21117199267144, 259.9978658213229, 242.6779490604962, 222.98220326479404, 213.95417310571352, 200.68720326188443, 204.57854937281465, 193.9921944073213, 189.55971051528596, 189.3146216432963, 186.0523835241503, 186.23954554705517, 188.06054677173148, 172.94623498295263, 166.38949055034283, 166.7752960321781, 158.4717493582024, 156.95196125290482, 156.207990181901, 152.56923566353157, 139.22803435708227, 141.64730446885758, 132.07082056413233, 148.50290727088333, 132.37947956528998, 135.20746119215937, 133.93164142266224, 309.16415186345705, 138.90343613462474, 169.33641952964317, 236.72637536832465, 451.9376114421075, 682.1826268559416, 674.2545572432747, 208.63060310879186, 206.65732263996986, 320.23732296436214, 300.9553310966054, 186.98463715424816, 209.9239941849079, 266.49691076001676, 267.3142038729655, 254.79594707937568, 202.29268802617284, 236.58599979123227, 204.68374985735937, 192.68389532799253, 193.55050827292067], \"Total\": [1901.0, 1147.0, 1642.0, 1154.0, 1191.0, 1163.0, 1159.0, 1139.0, 1852.0, 869.0, 1949.0, 799.0, 4564.0, 1058.0, 965.0, 659.0, 716.0, 637.0, 683.0, 681.0, 672.0, 660.0, 604.0, 865.0, 574.0, 631.0, 629.0, 699.0, 459.0, 527.0, 1191.2789734291568, 1163.8137850807811, 1139.9543436888357, 1159.5435006175198, 799.1865960717594, 716.9687844887095, 683.6892987756881, 681.3413215495668, 672.2417526214659, 660.2330603681507, 631.0636880876846, 629.0883389733376, 563.46229053783, 544.4450504712755, 526.89862468076, 525.5820480073187, 494.4437926409033, 485.2185367564786, 479.8772644177916, 468.9517235570334, 468.94787945093117, 458.37770095351755, 408.47978725036046, 409.6619681104489, 413.1310049969375, 378.4874977958565, 370.84091632518545, 316.79128238951995, 316.7195048458286, 310.995046963248, 322.37922739619324, 1642.6396497519274, 1901.0288864924519, 679.7703353981551, 761.9173666729499, 775.0641262400129, 1203.1577613974669, 1949.4482745171504, 1313.9323221797424, 4564.705427390124, 1057.0411758420985, 1154.279952949231, 869.7864326433904, 637.5055628329582, 604.1314253110229, 527.9659565077727, 501.6096202720076, 433.1856594601862, 406.1529076938596, 384.10038362865896, 351.1791195701341, 335.67229511969566, 332.7176187076598, 327.59383620988456, 311.1029494560693, 301.5765230564396, 298.3746805196422, 281.58302214448685, 274.8758291908834, 274.85206756803655, 260.0418332675404, 254.6298316618218, 241.90552090698017, 237.00115194511648, 236.0315052146116, 226.13651552697382, 219.9876006307813, 238.74664371673646, 203.45056810261696, 202.20728697639075, 195.41523573963664, 965.5836565392162, 1058.5887582722883, 400.8882423601451, 981.341128685945, 457.00662604380676, 467.1260063919987, 4564.705427390124, 1852.1337706072734, 458.6181641231143, 798.0195596919108, 964.4358502281265, 732.3239589621517, 445.032959635835, 549.4194947686227, 1277.9176562583245, 2857.015932676497, 1147.2892371717091, 659.1365737648952, 574.776361556406, 409.6197437925973, 343.98449850776143, 321.3665919013968, 320.30452926420367, 295.96599266338984, 301.76682101884273, 287.7163756305104, 286.0035065415175, 278.90116791790695, 257.4471063170663, 258.06557733939746, 245.94981713221455, 244.87186768299745, 242.13835392873386, 230.8941188541119, 216.49018521537553, 214.28458320366562, 198.49371325680994, 193.0406525401961, 189.80426916064775, 191.2668231593664, 186.86513852187997, 189.6201533710969, 185.25885492883918, 179.99344912729944, 171.98983167121062, 173.59894949846935, 179.45542100366933, 261.95474077541894, 591.1693833959457, 865.4302186284356, 611.6316883225896, 690.8142696752636, 628.2533428639254, 305.6732661036492, 1852.1337706072734, 2857.015932676497, 249.88567985329945, 442.7432039117433, 504.5809789276389, 4564.705427390124, 617.2949706511403, 504.420824310836, 692.125644937736, 1313.9323221797424, 819.7991835289477, 769.3877514938198, 732.3239589621517, 805.9512754905753, 1203.1577613974669, 368.4450823967774, 274.19557342520835, 263.4802389975037, 241.63054795694794, 230.59107683915886, 214.89868933374635, 213.29698095399124, 216.91226087502852, 205.83402251631335, 185.8262201392057, 189.78967204330132, 182.16880682834824, 178.62391267615655, 173.46131644755087, 212.25914600360161, 171.1292132510933, 169.13831520505929, 165.85281915765145, 156.54088502204013, 150.8870298955598, 151.0040488669311, 147.54816150207486, 161.24558518121287, 142.498590447516, 141.8861619024491, 134.69298639387725, 163.26561531996313, 149.7248578623712, 130.07814951715864, 134.38723483685956, 146.91262887808645, 160.70846353342407, 143.0629335125209, 204.26315144985995, 266.16811393808354, 374.5821828897858, 699.2598457336268, 491.6607657170858, 271.9453485509529, 243.96390174565894, 490.21235782440885, 4564.705427390124, 517.4186461390723, 452.5729938479409, 520.284495152841, 467.38677368184364, 1277.9176562583245, 2857.015932676497, 1017.5699287207485, 1949.4482745171504, 805.9512754905753, 1901.0288864924519, 692.125644937736, 428.97878916322367, 862.4780173847001, 769.3877514938198, 717.6855879671217, 459.1848633414566, 412.27244996362, 343.9683823900336, 326.0002005157611, 260.7982667446427, 243.4700364776167, 223.77923935745764, 214.76054312337075, 201.4804847484802, 205.3891495309469, 194.78692353546396, 190.35500628210045, 190.1153536336715, 186.84554183685435, 187.0338808830428, 188.86400134143753, 173.73295814711778, 167.17915227088184, 167.56931157696474, 159.26718092284307, 157.74404961453072, 157.00680693828957, 153.37812734757975, 140.02265381961746, 142.4560827405991, 132.86020661274955, 149.39191928745362, 133.18025790016267, 136.03191495488224, 134.75716585101628, 311.2014083086624, 139.77968382527632, 175.92527055409914, 264.8982974140468, 684.3547352312895, 1949.4482745171504, 2857.015932676497, 302.92696008446694, 300.28753772189015, 1017.5699287207485, 964.4358502281265, 257.0605490042452, 372.50459483315524, 1058.5887582722883, 1277.9176562583245, 1057.0411758420985, 414.8022679816788, 1313.9323221797424, 865.4302186284356, 316.4514331818287, 769.3877514938198], \"Category\": [\"Default\", \"Default\", \"Default\", \"Default\", \"Default\", \"Default\", \"Default\", \"Default\", \"Default\", \"Default\", \"Default\", \"Default\", \"Default\", \"Default\", \"Default\", \"Default\", \"Default\", \"Default\", \"Default\", \"Default\", \"Default\", \"Default\", \"Default\", \"Default\", \"Default\", \"Default\", \"Default\", \"Default\", \"Default\", \"Default\", \"Topic1\", \"Topic1\", \"Topic1\", \"Topic1\", \"Topic1\", \"Topic1\", \"Topic1\", \"Topic1\", \"Topic1\", \"Topic1\", \"Topic1\", \"Topic1\", \"Topic1\", \"Topic1\", \"Topic1\", \"Topic1\", \"Topic1\", \"Topic1\", \"Topic1\", \"Topic1\", \"Topic1\", \"Topic1\", \"Topic1\", \"Topic1\", \"Topic1\", \"Topic1\", \"Topic1\", \"Topic1\", \"Topic1\", \"Topic1\", \"Topic1\", \"Topic1\", \"Topic1\", \"Topic1\", \"Topic1\", \"Topic1\", \"Topic1\", \"Topic1\", \"Topic1\", \"Topic1\", \"Topic1\", \"Topic2\", \"Topic2\", \"Topic2\", \"Topic2\", \"Topic2\", \"Topic2\", \"Topic2\", \"Topic2\", \"Topic2\", \"Topic2\", \"Topic2\", \"Topic2\", \"Topic2\", \"Topic2\", \"Topic2\", \"Topic2\", \"Topic2\", \"Topic2\", \"Topic2\", \"Topic2\", \"Topic2\", \"Topic2\", \"Topic2\", \"Topic2\", \"Topic2\", \"Topic2\", \"Topic2\", \"Topic2\", \"Topic2\", \"Topic2\", \"Topic2\", \"Topic2\", \"Topic2\", \"Topic2\", \"Topic2\", \"Topic2\", \"Topic2\", \"Topic2\", \"Topic2\", \"Topic2\", \"Topic2\", \"Topic2\", \"Topic2\", \"Topic2\", \"Topic2\", \"Topic2\", \"Topic3\", \"Topic3\", \"Topic3\", \"Topic3\", \"Topic3\", \"Topic3\", \"Topic3\", \"Topic3\", \"Topic3\", \"Topic3\", \"Topic3\", \"Topic3\", \"Topic3\", \"Topic3\", \"Topic3\", \"Topic3\", \"Topic3\", \"Topic3\", \"Topic3\", \"Topic3\", \"Topic3\", \"Topic3\", \"Topic3\", \"Topic3\", \"Topic3\", \"Topic3\", \"Topic3\", \"Topic3\", \"Topic3\", \"Topic3\", \"Topic3\", \"Topic3\", \"Topic3\", \"Topic3\", \"Topic3\", \"Topic3\", \"Topic3\", \"Topic3\", \"Topic3\", \"Topic3\", \"Topic3\", \"Topic3\", \"Topic3\", \"Topic3\", \"Topic3\", \"Topic3\", \"Topic3\", \"Topic3\", \"Topic3\", \"Topic3\", \"Topic3\", \"Topic3\", \"Topic3\", \"Topic4\", \"Topic4\", \"Topic4\", \"Topic4\", \"Topic4\", \"Topic4\", \"Topic4\", \"Topic4\", \"Topic4\", \"Topic4\", \"Topic4\", \"Topic4\", \"Topic4\", \"Topic4\", \"Topic4\", \"Topic4\", \"Topic4\", \"Topic4\", \"Topic4\", \"Topic4\", \"Topic4\", \"Topic4\", \"Topic4\", \"Topic4\", \"Topic4\", \"Topic4\", \"Topic4\", \"Topic4\", \"Topic4\", \"Topic4\", \"Topic4\", \"Topic4\", \"Topic4\", \"Topic4\", \"Topic4\", \"Topic4\", \"Topic4\", \"Topic4\", \"Topic4\", \"Topic4\", \"Topic4\", \"Topic4\", \"Topic4\", \"Topic4\", \"Topic4\", \"Topic4\", \"Topic4\", \"Topic4\", \"Topic4\", \"Topic4\", \"Topic4\", \"Topic4\", \"Topic4\", \"Topic4\", \"Topic4\", \"Topic4\", \"Topic4\", \"Topic5\", \"Topic5\", \"Topic5\", \"Topic5\", \"Topic5\", \"Topic5\", \"Topic5\", \"Topic5\", \"Topic5\", \"Topic5\", \"Topic5\", \"Topic5\", \"Topic5\", \"Topic5\", \"Topic5\", \"Topic5\", \"Topic5\", \"Topic5\", \"Topic5\", \"Topic5\", \"Topic5\", \"Topic5\", \"Topic5\", \"Topic5\", \"Topic5\", \"Topic5\", \"Topic5\", \"Topic5\", \"Topic5\", \"Topic5\", \"Topic5\", \"Topic5\", \"Topic5\", \"Topic5\", \"Topic5\", \"Topic5\", \"Topic5\", \"Topic5\", \"Topic5\", \"Topic5\", \"Topic5\", \"Topic5\", \"Topic5\", \"Topic5\", \"Topic5\", \"Topic5\", \"Topic5\", \"Topic5\", \"Topic5\", \"Topic5\", \"Topic5\"], \"logprob\": [30.0, 29.0, 28.0, 27.0, 26.0, 25.0, 24.0, 23.0, 22.0, 21.0, 20.0, 19.0, 18.0, 17.0, 16.0, 15.0, 14.0, 13.0, 12.0, 11.0, 10.0, 9.0, 8.0, 7.0, 6.0, 5.0, 4.0, 3.0, 2.0, 1.0, -4.4346, -4.458, -4.4787, -4.4617, -4.8341, -4.9428, -4.9904, -4.9938, -5.0073, -5.0253, -5.0706, -5.0737, -5.184, -5.2184, -5.2512, -5.2537, -5.3149, -5.3337, -5.3448, -5.3679, -5.3679, -5.3907, -5.5062, -5.5033, -5.4949, -5.5826, -5.603, -5.7609, -5.7612, -5.7794, -5.7438, -4.2218, -4.1524, -5.0941, -5.0564, -5.0563, -4.8471, -4.6998, -5.079, -4.7051, -5.1596, -4.3599, -4.6431, -4.9541, -5.0079, -5.1429, -5.1942, -5.3411, -5.4056, -5.4616, -5.5514, -5.5966, -5.6055, -5.6211, -5.6728, -5.704, -5.7148, -5.7728, -5.797, -5.7971, -5.8526, -5.8737, -5.9252, -5.9457, -5.9498, -5.9927, -6.0204, -5.9386, -6.0989, -6.105, -6.1393, -4.7126, -4.7365, -5.5769, -4.9182, -5.5003, -5.4965, -4.0242, -4.6154, -5.5198, -5.1752, -5.1164, -5.4044, -5.6675, -5.6543, -5.5738, -5.5938, -4.3101, -4.8649, -5.002, -5.3413, -5.5163, -5.5845, -5.5878, -5.667, -5.6476, -5.6954, -5.7014, -5.7266, -5.8068, -5.8044, -5.8527, -5.8571, -5.8683, -5.9161, -5.9807, -5.9911, -6.0678, -6.0958, -6.1127, -6.1051, -6.1285, -6.1139, -6.1372, -6.1661, -6.2118, -6.2026, -6.1695, -5.7977, -5.1268, -4.8622, -5.1654, -5.0968, -5.177, -5.7613, -4.4897, -4.315, -5.9293, -5.5879, -5.5244, -4.4393, -5.4632, -5.5847, -5.4692, -5.241, -5.4219, -5.4726, -5.5681, -5.5547, -5.4743, -5.2545, -5.5508, -5.5907, -5.6775, -5.7245, -5.7952, -5.8027, -5.7859, -5.8385, -5.9411, -5.92, -5.9611, -5.9808, -6.0103, -5.8084, -6.0239, -6.0356, -6.0553, -6.1134, -6.1504, -6.1497, -6.1728, -6.0842, -6.2079, -6.2122, -6.2645, -6.0723, -6.1589, -6.2997, -6.2671, -6.178, -6.0898, -6.2053, -5.9009, -5.6775, -5.3948, -4.9501, -5.264, -5.7204, -5.82, -5.4571, -4.2198, -5.4587, -5.6081, -5.5551, -5.6033, -5.1967, -5.071, -5.4422, -5.2934, -5.5457, -5.3882, -5.7033, -5.7881, -5.7251, -5.7822, -5.8061, -5.0249, -5.1329, -5.3145, -5.3682, -5.592, -5.6609, -5.7456, -5.7869, -5.8509, -5.8317, -5.8848, -5.908, -5.9092, -5.9266, -5.9256, -5.9159, -5.9997, -6.0383, -6.036, -6.0871, -6.0967, -6.1015, -6.125, -6.2165, -6.1993, -6.2693, -6.1521, -6.267, -6.2458, -6.2553, -5.4188, -6.2189, -6.0208, -5.6858, -5.0391, -4.6274, -4.639, -5.8121, -5.8216, -5.3836, -5.4457, -5.9216, -5.8059, -5.5673, -5.5642, -5.6122, -5.8429, -5.6863, -5.8312, -5.8916, -5.8871], \"loglift\": [30.0, 29.0, 28.0, 27.0, 26.0, 25.0, 24.0, 23.0, 22.0, 21.0, 20.0, 19.0, 18.0, 17.0, 16.0, 15.0, 14.0, 13.0, 12.0, 11.0, 10.0, 9.0, 8.0, 7.0, 6.0, 5.0, 4.0, 3.0, 2.0, 1.0, 1.4214, 1.4213, 1.4213, 1.4213, 1.421, 1.4209, 1.4209, 1.4209, 1.4209, 1.4209, 1.4208, 1.4208, 1.4206, 1.4206, 1.4206, 1.4206, 1.4205, 1.4204, 1.4204, 1.4204, 1.4204, 1.4203, 1.4201, 1.4201, 1.4201, 1.42, 1.42, 1.4196, 1.4196, 1.4196, 1.4192, 1.3129, 1.2363, 1.3229, 1.2465, 1.2296, 0.999, 0.6637, 0.6789, -0.1925, 0.8159, 1.5276, 1.5274, 1.5271, 1.527, 1.5268, 1.5268, 1.5265, 1.5264, 1.5263, 1.5261, 1.526, 1.526, 1.5259, 1.5258, 1.5257, 1.5257, 1.5256, 1.5255, 1.5255, 1.5253, 1.5253, 1.5251, 1.525, 1.525, 1.5249, 1.5248, 1.5248, 1.5245, 1.5244, 1.5243, 1.3534, 1.2376, 1.3682, 1.1317, 1.3138, 1.2957, 0.4884, 0.7993, 1.2908, 1.0814, 0.9509, 0.9381, 1.1731, 0.9756, 0.212, -0.6125, 1.5835, 1.583, 1.5828, 1.5822, 1.5819, 1.5817, 1.5817, 1.5815, 1.5815, 1.5814, 1.5814, 1.5813, 1.5811, 1.5811, 1.581, 1.5809, 1.5809, 1.5807, 1.5805, 1.5803, 1.5802, 1.5801, 1.58, 1.58, 1.5799, 1.5798, 1.5798, 1.5798, 1.5796, 1.5795, 1.5793, 1.5729, 1.4298, 1.3134, 1.3573, 1.3041, 1.3188, 1.4549, 0.925, 0.6662, 1.4884, 1.2579, 1.1906, 0.0733, 1.0502, 1.1307, 0.9298, 0.517, 0.8078, 0.8205, 0.7744, 0.6921, 0.3717, 1.7749, 1.7742, 1.7741, 1.7738, 1.7737, 1.7734, 1.7734, 1.7734, 1.7732, 1.7729, 1.7728, 1.7728, 1.7727, 1.7725, 1.7725, 1.7725, 1.7724, 1.7723, 1.772, 1.7719, 1.7718, 1.7718, 1.7717, 1.7716, 1.7715, 1.7713, 1.7711, 1.7711, 1.771, 1.7709, 1.7709, 1.7694, 1.7702, 1.7184, 1.6772, 1.6181, 1.4387, 1.477, 1.6128, 1.6217, 1.2868, 0.2929, 1.2312, 1.2157, 1.1292, 1.1883, 0.5891, -0.0898, 0.5714, 0.0701, 0.701, 0.0004, 0.6957, 1.0892, 0.4539, 0.511, 0.5566, 1.7844, 1.7842, 1.7838, 1.7837, 1.783, 1.7829, 1.7825, 1.7823, 1.7822, 1.7822, 1.782, 1.7819, 1.7819, 1.7819, 1.7819, 1.7818, 1.7816, 1.7814, 1.7814, 1.7811, 1.7811, 1.781, 1.7808, 1.7804, 1.7804, 1.7802, 1.7801, 1.7801, 1.78, 1.78, 1.7795, 1.7798, 1.7479, 1.6737, 1.3712, 0.7361, 0.3422, 1.4132, 1.4124, 0.63, 0.6215, 1.4678, 1.2126, 0.4068, 0.2215, 0.3633, 1.068, 0.0716, 0.3443, 1.29, 0.4061]}, \"token.table\": {\"Topic\": [1, 3, 5, 4, 2, 4, 4, 5, 5, 2, 4, 3, 3, 3, 3, 1, 2, 3, 4, 5, 5, 1, 3, 4, 5, 4, 5, 2, 5, 1, 1, 2, 3, 5, 2, 1, 2, 4, 3, 5, 3, 5, 1, 3, 1, 1, 2, 2, 3, 1, 4, 3, 4, 4, 1, 3, 4, 3, 1, 2, 2, 2, 1, 2, 4, 5, 2, 2, 3, 4, 3, 2, 3, 3, 3, 5, 5, 1, 4, 3, 5, 5, 5, 4, 2, 5, 1, 4, 1, 5, 4, 3, 4, 3, 5, 1, 2, 1, 4, 5, 4, 1, 1, 2, 4, 5, 3, 5, 1, 3, 5, 1, 5, 4, 3, 2, 4, 1, 5, 5, 3, 2, 2, 1, 5, 2, 3, 5, 1, 2, 3, 3, 5, 3, 3, 2, 3, 5, 4, 1, 4, 5, 2, 3, 3, 4, 2, 4, 3, 3, 4, 3, 2, 2, 4, 5, 1, 2, 4, 2, 3, 4, 5, 4, 1, 1, 3, 4, 5, 1, 1, 4, 2, 4, 1, 5, 2, 1, 5, 3, 4, 5, 4, 4, 2, 3, 2, 5, 2, 3, 4, 5, 3, 4, 3, 1, 2, 4, 1, 4, 5, 4, 3, 1, 2, 2, 3, 1, 2, 2, 3, 4, 5, 2, 5, 2, 3, 1, 4, 4, 2, 1, 3, 5, 1, 3, 2, 3, 4, 5, 2, 2, 4, 4, 3, 4, 4, 1, 3, 4, 5, 3, 2, 2, 1, 2, 4, 5, 5, 3, 1, 2, 3, 4, 4, 1, 4, 5, 5, 1, 1, 5, 2, 3, 4, 5, 1, 5, 5, 1, 3, 4, 5, 5, 1, 1, 3, 4, 5, 2, 2, 4, 5, 4, 5, 3, 1, 5, 5, 4, 1, 1, 2, 3, 4, 5, 1, 2, 4, 5, 1, 4, 5, 1, 5, 5, 1, 4, 1, 3, 2, 5, 5, 1, 4, 1, 2, 3, 4, 4, 1, 4, 1, 4, 1, 2, 3, 4, 5, 5, 1, 3, 5, 1, 3, 5, 4, 5, 1, 2, 3, 4, 5, 2, 3, 4], \"Freq\": [0.9995312805278712, 0.9990492508335639, 0.9969391409129865, 0.9917115247936671, 0.9987442616813542, 0.9956397055930793, 0.8566841180376347, 0.1393648804463138, 0.99806942782604, 0.9978751107196683, 0.9932699151952695, 0.997510132577819, 0.9958709047894595, 0.9982756627228205, 0.9975127007867943, 0.3622756320584091, 0.15605719534823778, 0.03065409194340385, 0.29539397690916436, 0.15605719534823778, 0.9965178210467821, 0.9988254320890879, 0.12214165417856195, 0.1881641699507576, 0.6899352898194445, 0.10570094362001453, 0.8946829870694086, 0.9949742060704997, 0.9943812572323361, 0.9974886846561467, 0.24348950764285843, 0.11330699860608263, 0.15429038108062318, 0.48697901528571685, 0.9964547123130857, 0.07732828435549526, 0.853105588696109, 0.06984490199851184, 0.3097031621942683, 0.6893392964969197, 0.9964394942904338, 0.9959600802703746, 0.9975021964507628, 0.9953702518900888, 0.9989917952834387, 0.9977324068403282, 0.9977853681765603, 0.9971351665461423, 0.9944806373114344, 0.053852101673365925, 0.9448596020872385, 0.7962308188047056, 0.20273638918230696, 0.9965010850567001, 0.6549432046922413, 0.2975503391875919, 0.04737533333433725, 0.9965498091998845, 0.9979787104442375, 0.9962567166570441, 0.9980883025953193, 0.9978431598830048, 0.03158942297823616, 0.6725490053430925, 0.18342245600266158, 0.11311051453497464, 0.9940294586093146, 0.16046667176562743, 0.284560897931046, 0.5541449064973001, 0.9971379567624928, 0.5543994499038138, 0.44515817898680615, 0.997735762409331, 0.7672064231330279, 0.23239032733904996, 0.9941332795465817, 0.9968004411228916, 0.9933508480437111, 0.7626264784767873, 0.23687640619354758, 0.99578112204538, 0.993587494976028, 0.9948550669754194, 0.8399065109560107, 0.15948902920742988, 0.8306028441858027, 0.16938196062560384, 0.9982699743328357, 0.9973765697012065, 0.9935839354239743, 0.7556300194050429, 0.24319127061311727, 0.003213353067503341, 0.9929260978585324, 0.9997658202357473, 0.995993593590503, 0.4683376378509641, 0.18158983986773417, 0.3498425728525274, 0.9973405226191145, 0.9981718983522674, 0.21754140310884296, 0.2684054002386084, 0.30518398277859266, 0.20893364974842113, 0.8576222217185225, 0.142091255669341, 0.3627923178033409, 0.6363734099173357, 0.9981053062840194, 0.9061884108832088, 0.09414944528656714, 0.9937544162829751, 0.9984870265606359, 0.9966423984103114, 0.9948579761141063, 0.03410539020973071, 0.9606351575740818, 0.9929467744341037, 0.9952987459018207, 0.9979971682814754, 0.9988911243360324, 0.9987119844150851, 0.9954252724960775, 0.9972629300294389, 0.9933766706716781, 0.9967984326690381, 0.20551200037327735, 0.7920775014386732, 0.0021407500038883058, 0.9967361362881698, 0.9926965116592142, 0.9942448244666995, 0.9957626392482931, 0.04740063854089485, 0.3412845974944429, 0.609888215892847, 0.9937879480814152, 0.4965280460963651, 0.5035213988582857, 0.9975346722892056, 0.9992069671820407, 0.9988592719012022, 0.9967294965220114, 0.9986076645217248, 0.997526481254332, 0.9971185147359446, 0.9986492806449039, 0.14416062073056085, 0.8542851598848051, 0.9961275806480077, 0.9981271867947601, 0.639082079888987, 0.14160053926952065, 0.21803976843271322, 0.9993007600604038, 0.9968726525109927, 0.9959480823135192, 0.0751308673220423, 0.5201367737679852, 0.3395337273207681, 0.06501709672099815, 0.9941212316514296, 0.9991760049567597, 0.06803878534065684, 0.5864295307932804, 0.22355600897644393, 0.1231178020449981, 0.9991795537241921, 0.9991628228848644, 0.9922752292423197, 0.8074281180435865, 0.19255738316486615, 0.9985152452786472, 0.9944220518752144, 0.9955106532006827, 0.9957217237371866, 0.9969135702282986, 0.3800491906014833, 0.5700737859022249, 0.04861094298391065, 0.9957943323657757, 0.9951587340090348, 0.11777281166548906, 0.8800246205004599, 0.9990958324780943, 0.9954746480513159, 0.1625408433286013, 0.40945403281250714, 0.3412116940104226, 0.08685388574810757, 0.9961381669509274, 0.9974366881526333, 0.9967688628748511, 0.17654997852023735, 0.5751525073442784, 0.24753399050260083, 0.0939256007420015, 0.9054427911528945, 0.9924141701951009, 0.9981773244197328, 0.9982633080500984, 0.9977282584911249, 0.9968137278804707, 0.08804025910134408, 0.9084154007275048, 0.9986487773112739, 0.995629798599667, 0.23064304456112666, 0.11147747153787789, 0.5227909010052204, 0.13261975062264783, 0.7472212356486602, 0.2512779376517618, 0.4821465998685425, 0.5172412571938004, 0.006222447642230245, 0.9893691751146091, 0.9962848638946467, 0.9981704189524604, 0.9979705297811585, 0.9997478951581362, 0.9944722267529201, 0.9981323862100102, 0.997458895526507, 0.21816682444526464, 0.16706468538601346, 0.2997337002513771, 0.3144747019030842, 0.9957757507214635, 0.9987846718895124, 0.9973904460248119, 0.9955538021567314, 0.9940052467402907, 0.996544768339824, 0.9958180790374638, 0.0076349066792215665, 0.9887204149591928, 0.9922481208460041, 0.9920436783303338, 0.9974622053704356, 0.9981872790503173, 0.9979294840290914, 0.9988925649010931, 0.5609496991137695, 0.126498823090351, 0.3120995553294725, 0.9966025307879645, 0.9932048865932874, 0.19891754559924585, 0.353582509468263, 0.22082476427757688, 0.22673971332072626, 0.9987919979990447, 0.28355058329596206, 0.6119796761783354, 0.10403654495031701, 0.9971846761516135, 0.9983841113845587, 0.8244479112972413, 0.17417913618955802, 0.9971613949524433, 0.46660477672405953, 0.28204244164100534, 0.252148542296567, 0.9982945017529615, 0.9969319021455242, 0.9911378914655096, 0.21403898385057454, 0.6738264306406977, 0.08918290993773939, 0.02180026687366963, 0.9935254758766346, 0.9991825612687814, 0.037991992546398984, 0.02484091820341472, 0.2747113307201157, 0.6604761781143208, 0.9968999048267096, 0.05798012928961314, 0.5798012928961314, 0.36334214354824235, 0.2684192509013139, 0.727455071283271, 0.9964912788879677, 0.838673625186297, 0.16012235097453556, 0.9981350304936328, 0.9925701683418375, 0.9972623575009919, 0.2744574580221634, 0.047572626057174994, 0.4598687185526916, 0.01829716386814423, 0.20004899162504355, 0.5458633146815017, 0.07852106606337027, 0.13433724555419974, 0.24123941983324598, 0.999102440666647, 0.9940678833995674, 0.9976152293405487, 0.43489396438870714, 0.5637514353186944, 0.9974196376317058, 0.9981528183624067, 0.9958392254183296, 0.9983144520786675, 0.9946091534269994, 0.7893276549395948, 0.20932446097845606, 0.9952831842700317, 0.2860167092680268, 0.7136116896237269, 0.09886908159792178, 0.7010716695125362, 0.09662205701615083, 0.10111610617969272, 0.993401399856631, 0.9994990446949694, 0.9965071156106199, 0.15076558660946562, 0.8494353782143063, 0.056813042202029845, 0.16232297772008528, 0.32464595544017055, 0.26667346339728293, 0.18899032405981356, 0.9964586459304405, 0.4756713793014536, 0.34400554151081125, 0.1803745870311112, 0.8967274108003258, 0.10288318562474885, 0.0006087762463002891, 0.7403478686551429, 0.2583081849428658, 0.09240410491959725, 0.11760522444312377, 0.39936774133810776, 0.1547068726305378, 0.23591047998412326, 0.05420749497215134, 0.7205079540048449, 0.22360591676012426], \"Term\": [\"2024\", \"actor\", \"aged\", \"album\", \"allegation\", \"alleged\", \"already\", \"already\", \"american\", \"amid\", \"appear\", \"around\", \"arrested\", \"attack\", \"baby\", \"back\", \"back\", \"back\", \"back\", \"back\", \"band\", \"beat\", \"behind\", \"behind\", \"behind\", \"biden\", \"biden\", \"bill\", \"branded\", \"britain\", \"british\", \"british\", \"british\", \"british\", \"budget\", \"call\", \"call\", \"call\", \"called\", \"called\", \"cancer\", \"candidate\", \"captain\", \"captured\", \"champion\", \"championship\", \"chancellor\", \"change\", \"charged\", \"charles\", \"charles\", \"child\", \"child\", \"christmas\", \"city\", \"city\", \"city\", \"class\", \"club\", \"company\", \"concern\", \"cost\", \"could\", \"could\", \"could\", \"could\", \"council\", \"court\", \"court\", \"court\", \"daughter\", \"day\", \"day\", \"dead\", \"death\", \"death\", \"debate\", \"defeat\", \"denies\", \"died\", \"died\", \"donald\", \"door\", \"driver\", \"election\", \"election\", \"england\", \"england\", \"euro\", \"evacuated\", \"fall\", \"family\", \"family\", \"film\", \"film\", \"final\", \"firm\", \"first\", \"first\", \"first\", \"follow\", \"football\", \"former\", \"former\", \"former\", \"former\", \"found\", \"found\", \"four\", \"four\", \"fourth\", \"game\", \"game\", \"gareth\", \"gaza\", \"general\", \"george\", \"georgia\", \"georgia\", \"giant\", \"girl\", \"going\", \"government\", \"great\", \"guide\", \"health\", \"hears\", \"heavy\", \"help\", \"help\", \"help\", \"hospital\", \"hunter\", \"husband\", \"image\", \"including\", \"including\", \"including\", \"inter\", \"ireland\", \"ireland\", \"irish\", \"israel\", \"israeli\", \"journey\", \"judge\", \"keir\", \"kerry\", \"killed\", \"king\", \"king\", \"korea\", \"labour\", \"leader\", \"leader\", \"leader\", \"league\", \"lebanon\", \"legal\", \"life\", \"life\", \"life\", \"life\", \"line\", \"liverpool\", \"london\", \"london\", \"london\", \"london\", \"manager\", \"manchester\", \"manifesto\", \"many\", \"many\", \"match\", \"material\", \"mean\", \"medal\", \"medium\", \"member\", \"member\", \"member\", \"middle\", \"milan\", \"military\", \"military\", \"minister\", \"missing\", \"month\", \"month\", \"month\", \"month\", \"mother\", \"much\", \"murder\", \"next\", \"next\", \"next\", \"northern\", \"northern\", \"november\", \"office\", \"officer\", \"olympic\", \"paper\", \"parent\", \"parent\", \"paris\", \"parliament\", \"part\", \"part\", \"part\", \"part\", \"party\", \"party\", \"people\", \"people\", \"personality\", \"personality\", \"picture\", \"plan\", \"player\", \"police\", \"poll\", \"premier\", \"presenter\", \"president\", \"president\", \"president\", \"president\", \"price\", \"prime\", \"prince\", \"princess\", \"private\", \"promise\", \"rape\", \"rate\", \"rate\", \"rebel\", \"released\", \"republic\", \"rise\", \"risk\", \"round\", \"said\", \"said\", \"said\", \"sale\", \"save\", \"say\", \"say\", \"say\", \"say\", \"school\", \"scotland\", \"scotland\", \"scotland\", \"scottish\", \"season\", \"second\", \"second\", \"secretary\", \"show\", \"show\", \"show\", \"side\", \"social\", \"song\", \"south\", \"south\", \"south\", \"south\", \"space\", \"sport\", \"star\", \"star\", \"star\", \"star\", \"starmer\", \"state\", \"state\", \"state\", \"storm\", \"storm\", \"taken\", \"team\", \"team\", \"teenager\", \"terry\", \"test\", \"three\", \"three\", \"three\", \"three\", \"three\", \"time\", \"time\", \"time\", \"time\", \"title\", \"tonne\", \"tory\", \"tour\", \"tour\", \"trump\", \"united\", \"university\", \"victory\", \"village\", \"vote\", \"vote\", \"voter\", \"wale\", \"wale\", \"want\", \"want\", \"want\", \"want\", \"warns\", \"watch\", \"weather\", \"wednesday\", \"wednesday\", \"week\", \"week\", \"week\", \"week\", \"week\", \"white\", \"woman\", \"woman\", \"woman\", \"world\", \"world\", \"world\", \"would\", \"would\", \"year\", \"year\", \"year\", \"year\", \"year\", \"young\", \"young\", \"young\"]}, \"R\": 30, \"lambda.step\": 0.01, \"plot.opts\": {\"xlab\": \"PC1\", \"ylab\": \"PC2\"}, \"topic.order\": [2, 3, 4, 5, 1]};\n",
              "\n",
              "function LDAvis_load_lib(url, callback){\n",
              "  var s = document.createElement('script');\n",
              "  s.src = url;\n",
              "  s.async = true;\n",
              "  s.onreadystatechange = s.onload = callback;\n",
              "  s.onerror = function(){console.warn(\"failed to load library \" + url);};\n",
              "  document.getElementsByTagName(\"head\")[0].appendChild(s);\n",
              "}\n",
              "\n",
              "if(typeof(LDAvis) !== \"undefined\"){\n",
              "   // already loaded: just create the visualization\n",
              "   !function(LDAvis){\n",
              "       new LDAvis(\"#\" + \"ldavis_el6721367611527949447163992979\", ldavis_el6721367611527949447163992979_data);\n",
              "   }(LDAvis);\n",
              "}else if(typeof define === \"function\" && define.amd){\n",
              "   // require.js is available: use it to load d3/LDAvis\n",
              "   require.config({paths: {d3: \"https://d3js.org/d3.v5\"}});\n",
              "   require([\"d3\"], function(d3){\n",
              "      window.d3 = d3;\n",
              "      LDAvis_load_lib(\"https://cdn.jsdelivr.net/gh/bmabey/pyLDAvis@3.4.0/pyLDAvis/js/ldavis.v3.0.0.js\", function(){\n",
              "        new LDAvis(\"#\" + \"ldavis_el6721367611527949447163992979\", ldavis_el6721367611527949447163992979_data);\n",
              "      });\n",
              "    });\n",
              "}else{\n",
              "    // require.js not available: dynamically load d3 & LDAvis\n",
              "    LDAvis_load_lib(\"https://d3js.org/d3.v5.js\", function(){\n",
              "         LDAvis_load_lib(\"https://cdn.jsdelivr.net/gh/bmabey/pyLDAvis@3.4.0/pyLDAvis/js/ldavis.v3.0.0.js\", function(){\n",
              "                 new LDAvis(\"#\" + \"ldavis_el6721367611527949447163992979\", ldavis_el6721367611527949447163992979_data);\n",
              "            })\n",
              "         });\n",
              "}\n",
              "</script>"
            ]
          },
          "metadata": {},
          "execution_count": 18
        }
      ]
    }
  ]
}